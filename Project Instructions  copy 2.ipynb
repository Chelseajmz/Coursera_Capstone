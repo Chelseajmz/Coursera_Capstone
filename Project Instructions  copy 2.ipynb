{
    "cells": [
        {
            "metadata": {
                "button": false,
                "new_sheet": false,
                "run_control": {
                    "read_only": false
                }
            },
            "cell_type": "markdown",
            "source": "In this notebook we try to practice all the classification algorithms that we learned in this course.\n\nWe load a dataset using Pandas library, and apply the following algorithms, and find the best one for this specific dataset by accuracy evaluation methods.\n\nLets first load required libraries:"
        },
        {
            "metadata": {
                "button": false,
                "new_sheet": false,
                "run_control": {
                    "read_only": false
                }
            },
            "cell_type": "code",
            "source": "import itertools\nimport numpy as np\nfrom pandas import DataFrame\nimport matplotlib.pyplot as plt\nfrom matplotlib.ticker import NullFormatter\nimport pandas as pd\nimport numpy as np\nimport matplotlib.ticker as ticker\nfrom sklearn import preprocessing\n%matplotlib inline\n",
            "execution_count": 1,
            "outputs": []
        },
        {
            "metadata": {
                "button": false,
                "new_sheet": false,
                "run_control": {
                    "read_only": false
                }
            },
            "cell_type": "markdown",
            "source": "### About dataset"
        },
        {
            "metadata": {
                "button": false,
                "new_sheet": false,
                "run_control": {
                    "read_only": false
                }
            },
            "cell_type": "markdown",
            "source": "This dataset is about wind Turbines in the US. The _uswtdb.csv_ data set includes details of 63003 Active wind turbines. Select fields that are most relevant for this study are as follows:  \n\n| Field          | Description                                                                           |\n|----------------|---------------------------------------------------------------------------------------|\n| t_state        | state where turbine is located\u00a0                                                       |\n| p_name         | name of the wind power project that the turbine is a part of                          |\n| p_year         | Year the wind power project became operational and began providing power              |\n| p_cap          | cumulative capacity of all turbines in the wind power project, in megawatts           |\n| t_manu         | turbine manufacturer - name of the original equipment manufacturer                    |\n| t_model        | turbine model                                                                         |\n| t_cap          | turbine rated capacity in kilowatt (kW)                                               |\n| t_hh           | Tturbine hub height in meters (m)                                                     |\n| t_rd           | turbine rotor diameter in meters (m)                                                  |\n| t_rsa          |turbine rotor swept area square meters (m^2)                                           |\n| t_ttlh         | turbine total height - height of entire wind turbine from ground to tip               |",
            "attachments": {}
        },
        {
            "metadata": {
                "button": false,
                "new_sheet": false,
                "run_control": {
                    "read_only": false
                }
            },
            "cell_type": "markdown",
            "source": "### Download Data "
        },
        {
            "metadata": {},
            "cell_type": "code",
            "source": "!wget -O uswtdb.csv https://raw.githubusercontent.com/Chelseajmz/Wind2020/master/uswtdb2020.csv\n",
            "execution_count": 2,
            "outputs": [
                {
                    "output_type": "stream",
                    "text": "--2020-02-13 01:56:43--  https://raw.githubusercontent.com/Chelseajmz/Wind2020/master/uswtdb2020.csv\nResolving raw.githubusercontent.com (raw.githubusercontent.com)... 199.232.8.133\nConnecting to raw.githubusercontent.com (raw.githubusercontent.com)|199.232.8.133|:443... connected.\nHTTP request sent, awaiting response... 200 OK\nLength: 11247458 (11M) [text/plain]\nSaving to: \u2018uswtdb.csv\u2019\n\n100%[======================================>] 11,247,458  --.-K/s   in 0.1s    \n\n2020-02-13 01:56:44 (98.4 MB/s) - \u2018uswtdb.csv\u2019 saved [11247458/11247458]\n\n",
                    "name": "stdout"
                }
            ]
        },
        {
            "metadata": {
                "button": false,
                "new_sheet": false,
                "run_control": {
                    "read_only": false
                }
            },
            "cell_type": "markdown",
            "source": "### Load Data From CSV File  "
        },
        {
            "metadata": {
                "button": false,
                "new_sheet": false,
                "run_control": {
                    "read_only": false
                },
                "scrolled": false
            },
            "cell_type": "code",
            "source": "df = pd.read_csv('uswtdb.csv')\ndf.head()",
            "execution_count": 3,
            "outputs": [
                {
                    "output_type": "execute_result",
                    "execution_count": 3,
                    "data": {
                        "text/plain": "   case_id faa_ors faa_asn  usgs_pr_id   eia_id t_state     t_county  t_fips  \\\n0  3073404     NaN     NaN      5806.0  52161.0      CA  Kern County    6029   \n1  3073414     NaN     NaN      5778.0  52161.0      CA  Kern County    6029   \n2  3011331     NaN     NaN      4951.0  52161.0      CA  Kern County    6029   \n3  3001002     NaN     NaN      4950.0  52161.0      CA  Kern County    6029   \n4  3073425     NaN     NaN      4957.0  52161.0      CA  Kern County    6029   \n\n     p_name  p_year  ...  t_hh  t_rd t_rsa t_ttlh  t_conf_atr  t_conf_loc  \\\n0  251 Wind  1987.0  ...   NaN   NaN   NaN    NaN           2           3   \n1  251 Wind  1987.0  ...   NaN   NaN   NaN    NaN           2           3   \n2  251 Wind  1987.0  ...   NaN   NaN   NaN    NaN           2           3   \n3  251 Wind  1987.0  ...   NaN   NaN   NaN    NaN           2           3   \n4  251 Wind  1987.0  ...   NaN   NaN   NaN    NaN           2           3   \n\n   t_img_date     t_img_srce       xlong       ylat  \n0      5/8/18  Digital Globe -118.352531  35.087852  \n1      5/8/18  Digital Globe -118.353035  35.086193  \n2      5/8/18  Digital Globe -118.356697  35.086670  \n3      5/8/18  Digital Globe -118.357185  35.086594  \n4      5/8/18  Digital Globe -118.360420  35.084709  \n\n[5 rows x 25 columns]",
                        "text/html": "<div>\n<style scoped>\n    .dataframe tbody tr th:only-of-type {\n        vertical-align: middle;\n    }\n\n    .dataframe tbody tr th {\n        vertical-align: top;\n    }\n\n    .dataframe thead th {\n        text-align: right;\n    }\n</style>\n<table border=\"1\" class=\"dataframe\">\n  <thead>\n    <tr style=\"text-align: right;\">\n      <th></th>\n      <th>case_id</th>\n      <th>faa_ors</th>\n      <th>faa_asn</th>\n      <th>usgs_pr_id</th>\n      <th>eia_id</th>\n      <th>t_state</th>\n      <th>t_county</th>\n      <th>t_fips</th>\n      <th>p_name</th>\n      <th>p_year</th>\n      <th>...</th>\n      <th>t_hh</th>\n      <th>t_rd</th>\n      <th>t_rsa</th>\n      <th>t_ttlh</th>\n      <th>t_conf_atr</th>\n      <th>t_conf_loc</th>\n      <th>t_img_date</th>\n      <th>t_img_srce</th>\n      <th>xlong</th>\n      <th>ylat</th>\n    </tr>\n  </thead>\n  <tbody>\n    <tr>\n      <th>0</th>\n      <td>3073404</td>\n      <td>NaN</td>\n      <td>NaN</td>\n      <td>5806.0</td>\n      <td>52161.0</td>\n      <td>CA</td>\n      <td>Kern County</td>\n      <td>6029</td>\n      <td>251 Wind</td>\n      <td>1987.0</td>\n      <td>...</td>\n      <td>NaN</td>\n      <td>NaN</td>\n      <td>NaN</td>\n      <td>NaN</td>\n      <td>2</td>\n      <td>3</td>\n      <td>5/8/18</td>\n      <td>Digital Globe</td>\n      <td>-118.352531</td>\n      <td>35.087852</td>\n    </tr>\n    <tr>\n      <th>1</th>\n      <td>3073414</td>\n      <td>NaN</td>\n      <td>NaN</td>\n      <td>5778.0</td>\n      <td>52161.0</td>\n      <td>CA</td>\n      <td>Kern County</td>\n      <td>6029</td>\n      <td>251 Wind</td>\n      <td>1987.0</td>\n      <td>...</td>\n      <td>NaN</td>\n      <td>NaN</td>\n      <td>NaN</td>\n      <td>NaN</td>\n      <td>2</td>\n      <td>3</td>\n      <td>5/8/18</td>\n      <td>Digital Globe</td>\n      <td>-118.353035</td>\n      <td>35.086193</td>\n    </tr>\n    <tr>\n      <th>2</th>\n      <td>3011331</td>\n      <td>NaN</td>\n      <td>NaN</td>\n      <td>4951.0</td>\n      <td>52161.0</td>\n      <td>CA</td>\n      <td>Kern County</td>\n      <td>6029</td>\n      <td>251 Wind</td>\n      <td>1987.0</td>\n      <td>...</td>\n      <td>NaN</td>\n      <td>NaN</td>\n      <td>NaN</td>\n      <td>NaN</td>\n      <td>2</td>\n      <td>3</td>\n      <td>5/8/18</td>\n      <td>Digital Globe</td>\n      <td>-118.356697</td>\n      <td>35.086670</td>\n    </tr>\n    <tr>\n      <th>3</th>\n      <td>3001002</td>\n      <td>NaN</td>\n      <td>NaN</td>\n      <td>4950.0</td>\n      <td>52161.0</td>\n      <td>CA</td>\n      <td>Kern County</td>\n      <td>6029</td>\n      <td>251 Wind</td>\n      <td>1987.0</td>\n      <td>...</td>\n      <td>NaN</td>\n      <td>NaN</td>\n      <td>NaN</td>\n      <td>NaN</td>\n      <td>2</td>\n      <td>3</td>\n      <td>5/8/18</td>\n      <td>Digital Globe</td>\n      <td>-118.357185</td>\n      <td>35.086594</td>\n    </tr>\n    <tr>\n      <th>4</th>\n      <td>3073425</td>\n      <td>NaN</td>\n      <td>NaN</td>\n      <td>4957.0</td>\n      <td>52161.0</td>\n      <td>CA</td>\n      <td>Kern County</td>\n      <td>6029</td>\n      <td>251 Wind</td>\n      <td>1987.0</td>\n      <td>...</td>\n      <td>NaN</td>\n      <td>NaN</td>\n      <td>NaN</td>\n      <td>NaN</td>\n      <td>2</td>\n      <td>3</td>\n      <td>5/8/18</td>\n      <td>Digital Globe</td>\n      <td>-118.360420</td>\n      <td>35.084709</td>\n    </tr>\n  </tbody>\n</table>\n<p>5 rows \u00d7 25 columns</p>\n</div>"
                    },
                    "metadata": {}
                }
            ]
        },
        {
            "metadata": {
                "button": false,
                "new_sheet": false,
                "run_control": {
                    "read_only": false
                }
            },
            "cell_type": "markdown",
            "source": "Let\u2019s see how many of each class is in our data set "
        },
        {
            "metadata": {
                "button": false,
                "new_sheet": false,
                "run_control": {
                    "read_only": false
                }
            },
            "cell_type": "markdown",
            "source": "# Data visualization and pre-processing\n\n"
        },
        {
            "metadata": {},
            "cell_type": "code",
            "source": "df2 = df.drop(['eia_id','t_fips','faa_ors', 'faa_asn', 'usgs_pr_id','t_conf_atr','t_conf_loc','t_img_srce','t_img_date','xlong','ylat'], axis=1)\ndf2.head()",
            "execution_count": 4,
            "outputs": [
                {
                    "output_type": "execute_result",
                    "execution_count": 4,
                    "data": {
                        "text/plain": "   case_id t_state     t_county    p_name  p_year  p_tnum   p_cap  \\\n0  3073404      CA  Kern County  251 Wind  1987.0     169  16.055   \n1  3073414      CA  Kern County  251 Wind  1987.0     169  16.055   \n2  3011331      CA  Kern County  251 Wind  1987.0     169  16.055   \n3  3001002      CA  Kern County  251 Wind  1987.0     169  16.055   \n4  3073425      CA  Kern County  251 Wind  1987.0     169  16.055   \n\n                 t_manu t_model  t_cap  t_hh  t_rd  t_rsa  t_ttlh  \n0  Vestas North America     NaN   95.0   NaN   NaN    NaN     NaN  \n1  Vestas North America     NaN   95.0   NaN   NaN    NaN     NaN  \n2  Vestas North America     NaN   95.0   NaN   NaN    NaN     NaN  \n3  Vestas North America     NaN   95.0   NaN   NaN    NaN     NaN  \n4  Vestas North America     NaN   95.0   NaN   NaN    NaN     NaN  ",
                        "text/html": "<div>\n<style scoped>\n    .dataframe tbody tr th:only-of-type {\n        vertical-align: middle;\n    }\n\n    .dataframe tbody tr th {\n        vertical-align: top;\n    }\n\n    .dataframe thead th {\n        text-align: right;\n    }\n</style>\n<table border=\"1\" class=\"dataframe\">\n  <thead>\n    <tr style=\"text-align: right;\">\n      <th></th>\n      <th>case_id</th>\n      <th>t_state</th>\n      <th>t_county</th>\n      <th>p_name</th>\n      <th>p_year</th>\n      <th>p_tnum</th>\n      <th>p_cap</th>\n      <th>t_manu</th>\n      <th>t_model</th>\n      <th>t_cap</th>\n      <th>t_hh</th>\n      <th>t_rd</th>\n      <th>t_rsa</th>\n      <th>t_ttlh</th>\n    </tr>\n  </thead>\n  <tbody>\n    <tr>\n      <th>0</th>\n      <td>3073404</td>\n      <td>CA</td>\n      <td>Kern County</td>\n      <td>251 Wind</td>\n      <td>1987.0</td>\n      <td>169</td>\n      <td>16.055</td>\n      <td>Vestas North America</td>\n      <td>NaN</td>\n      <td>95.0</td>\n      <td>NaN</td>\n      <td>NaN</td>\n      <td>NaN</td>\n      <td>NaN</td>\n    </tr>\n    <tr>\n      <th>1</th>\n      <td>3073414</td>\n      <td>CA</td>\n      <td>Kern County</td>\n      <td>251 Wind</td>\n      <td>1987.0</td>\n      <td>169</td>\n      <td>16.055</td>\n      <td>Vestas North America</td>\n      <td>NaN</td>\n      <td>95.0</td>\n      <td>NaN</td>\n      <td>NaN</td>\n      <td>NaN</td>\n      <td>NaN</td>\n    </tr>\n    <tr>\n      <th>2</th>\n      <td>3011331</td>\n      <td>CA</td>\n      <td>Kern County</td>\n      <td>251 Wind</td>\n      <td>1987.0</td>\n      <td>169</td>\n      <td>16.055</td>\n      <td>Vestas North America</td>\n      <td>NaN</td>\n      <td>95.0</td>\n      <td>NaN</td>\n      <td>NaN</td>\n      <td>NaN</td>\n      <td>NaN</td>\n    </tr>\n    <tr>\n      <th>3</th>\n      <td>3001002</td>\n      <td>CA</td>\n      <td>Kern County</td>\n      <td>251 Wind</td>\n      <td>1987.0</td>\n      <td>169</td>\n      <td>16.055</td>\n      <td>Vestas North America</td>\n      <td>NaN</td>\n      <td>95.0</td>\n      <td>NaN</td>\n      <td>NaN</td>\n      <td>NaN</td>\n      <td>NaN</td>\n    </tr>\n    <tr>\n      <th>4</th>\n      <td>3073425</td>\n      <td>CA</td>\n      <td>Kern County</td>\n      <td>251 Wind</td>\n      <td>1987.0</td>\n      <td>169</td>\n      <td>16.055</td>\n      <td>Vestas North America</td>\n      <td>NaN</td>\n      <td>95.0</td>\n      <td>NaN</td>\n      <td>NaN</td>\n      <td>NaN</td>\n      <td>NaN</td>\n    </tr>\n  </tbody>\n</table>\n</div>"
                    },
                    "metadata": {}
                }
            ]
        },
        {
            "metadata": {},
            "cell_type": "markdown",
            "source": "## Explore: Growth Trajectory and Prediction"
        },
        {
            "metadata": {},
            "cell_type": "code",
            "source": "year_sum = df2.groupby('p_year')['t_cap'].sum().reset_index()\nyear_sum['cap_year']= year_sum['t_cap'] / 1000 \nyear_sum['cum_sum'] = year_sum['cap_year'].cumsum()",
            "execution_count": 8,
            "outputs": []
        },
        {
            "metadata": {},
            "cell_type": "code",
            "source": "#year_sum.plot(ax = year_sum['p_year'], style = 'k-')\nfig = plt.figure()\nax = fig.add_subplot(1,1,1)\nyear_sum.plot(ax = ax, x='p_year', y=['cap_year','cum_sum'])\nax.set_xlabel('Year')\nax.set_ylabel('MW')\nax.set_title('Evolution of Wind Turbine Capacity')\nfig.show()",
            "execution_count": 9,
            "outputs": [
                {
                    "output_type": "display_data",
                    "data": {
                        "text/plain": "<Figure size 432x288 with 1 Axes>",
                        "image/png": "[encoded data removed]"
                    },
                    "metadata": {
                        "needs_background": "light"
                    }
                }
            ]
        },
        {
            "metadata": {},
            "cell_type": "markdown",
            "source": "Fitting into a Growth Model: Polynomial or Exponential (population growth) "
        },
        {
            "metadata": {},
            "cell_type": "code",
            "source": "year_sum.head()",
            "execution_count": 10,
            "outputs": [
                {
                    "output_type": "execute_result",
                    "execution_count": 10,
                    "data": {
                        "text/plain": "   p_year    t_cap  cap_year  cum_sum\n0  1983.0  28080.0    28.080   28.080\n1  1984.0   1300.0     1.300   29.380\n2  1985.0   5445.0     5.445   34.825\n3  1986.0   8480.0     8.480   43.305\n4  1988.0  18400.0    18.400   61.705",
                        "text/html": "<div>\n<style scoped>\n    .dataframe tbody tr th:only-of-type {\n        vertical-align: middle;\n    }\n\n    .dataframe tbody tr th {\n        vertical-align: top;\n    }\n\n    .dataframe thead th {\n        text-align: right;\n    }\n</style>\n<table border=\"1\" class=\"dataframe\">\n  <thead>\n    <tr style=\"text-align: right;\">\n      <th></th>\n      <th>p_year</th>\n      <th>t_cap</th>\n      <th>cap_year</th>\n      <th>cum_sum</th>\n    </tr>\n  </thead>\n  <tbody>\n    <tr>\n      <th>0</th>\n      <td>1983.0</td>\n      <td>28080.0</td>\n      <td>28.080</td>\n      <td>28.080</td>\n    </tr>\n    <tr>\n      <th>1</th>\n      <td>1984.0</td>\n      <td>1300.0</td>\n      <td>1.300</td>\n      <td>29.380</td>\n    </tr>\n    <tr>\n      <th>2</th>\n      <td>1985.0</td>\n      <td>5445.0</td>\n      <td>5.445</td>\n      <td>34.825</td>\n    </tr>\n    <tr>\n      <th>3</th>\n      <td>1986.0</td>\n      <td>8480.0</td>\n      <td>8.480</td>\n      <td>43.305</td>\n    </tr>\n    <tr>\n      <th>4</th>\n      <td>1988.0</td>\n      <td>18400.0</td>\n      <td>18.400</td>\n      <td>61.705</td>\n    </tr>\n  </tbody>\n</table>\n</div>"
                    },
                    "metadata": {}
                }
            ]
        },
        {
            "metadata": {},
            "cell_type": "code",
            "source": "# Creating train and test dataset\nmsk = np.random.rand(len(year_sum)) < 0.8\ntrain = year_sum[msk]\ntest = year_sum[~msk]",
            "execution_count": 11,
            "outputs": []
        },
        {
            "metadata": {},
            "cell_type": "code",
            "source": "# Modeling growth \nfrom sklearn.preprocessing import PolynomialFeatures\nfrom sklearn import linear_model\n\ntrain_x = np.asanyarray(train[['p_year']])\ntrain_y = np.asanyarray(train[['cum_sum']])\n\ntest_x = np.asanyarray(test[['p_year']])\ntest_y = np.asanyarray(test[['cum_sum']])\n\n\npoly = PolynomialFeatures(degree=2)\ntrain_x_poly = poly.fit_transform(train_x)",
            "execution_count": 12,
            "outputs": []
        },
        {
            "metadata": {},
            "cell_type": "code",
            "source": "clf = linear_model.LinearRegression()\ntrain_y_ = clf.fit(train_x_poly, train_y)\n# The coefficients\nprint ('Coefficients: ', clf.coef_)\nprint ('Intercept: ',clf.intercept_)",
            "execution_count": 13,
            "outputs": [
                {
                    "output_type": "stream",
                    "text": "Coefficients:  [[ 0.00000000e+00 -6.47640803e+05  1.62482054e+02]]\nIntercept:  [6.45353718e+08]\n",
                    "name": "stdout"
                }
            ]
        },
        {
            "metadata": {},
            "cell_type": "code",
            "source": "## Testing Result \nfrom sklearn.metrics import r2_score\n\ntest_x_poly = poly.fit_transform(test_x)\ntest_y_ = clf.predict(test_x_poly)\nr2 = r2_score(test_y_ , test_y)\n\nprint(\"Mean absolute error: %.2f\" % np.mean(np.absolute(test_y_ - test_y)))\nprint(\"Residual sum of squares (MSE): %.2f\" % np.mean((test_y_ - test_y) ** 2))\nprint(\"R2-score: %.2f\" % r2_score(test_y_ , test_y) )\n\n",
            "execution_count": 14,
            "outputs": [
                {
                    "output_type": "stream",
                    "text": "Mean absolute error: 2670.57\nResidual sum of squares (MSE): 15271368.68\nR2-score: 0.99\n",
                    "name": "stdout"
                }
            ]
        },
        {
            "metadata": {},
            "cell_type": "code",
            "source": "plt.scatter(train['p_year'], train['cum_sum'], color='r')\nyear = np.arange(1983, 2020, 1)\ncumsum = clf.intercept_[0]+ clf.coef_[0][1]* year + clf.coef_[0][2]* np.power(year, 2)\nplt.plot(year, cumsum, '-r')\nplt.xlabel('year')\nplt.ylabel('Total Capacity (MW)')\nplt.title('Model #1: Polynomial Growth: Degree = 2')\n## plt.text(0.6, 0.5, 'R2 = %0.4f' % r2)\nplt.text(1985, 80000, 'R-squared = %0.2f' %r2)\nplt.show()",
            "execution_count": 23,
            "outputs": [
                {
                    "output_type": "display_data",
                    "data": {
                        "text/plain": "<Figure size 432x288 with 1 Axes>",
                        "image/png": "[encoded data removed]"
                    },
                    "metadata": {
                        "needs_background": "light"
                    }
                }
            ]
        },
        {
            "metadata": {},
            "cell_type": "markdown",
            "source": "## Exponential Growth"
        },
        {
            "metadata": {},
            "cell_type": "code",
            "source": "## exponential function\ndef exp (t, a , x0):\n    return x0 * np.exp (t * a) \nyear_sum.head()",
            "execution_count": 15,
            "outputs": [
                {
                    "output_type": "execute_result",
                    "execution_count": 15,
                    "data": {
                        "text/plain": "   p_year    t_cap  cap_year  cum_sum\n0  1983.0  28080.0    28.080   28.080\n1  1984.0   1300.0     1.300   29.380\n2  1985.0   5445.0     5.445   34.825\n3  1986.0   8480.0     8.480   43.305\n4  1988.0  18400.0    18.400   61.705",
                        "text/html": "<div>\n<style scoped>\n    .dataframe tbody tr th:only-of-type {\n        vertical-align: middle;\n    }\n\n    .dataframe tbody tr th {\n        vertical-align: top;\n    }\n\n    .dataframe thead th {\n        text-align: right;\n    }\n</style>\n<table border=\"1\" class=\"dataframe\">\n  <thead>\n    <tr style=\"text-align: right;\">\n      <th></th>\n      <th>p_year</th>\n      <th>t_cap</th>\n      <th>cap_year</th>\n      <th>cum_sum</th>\n    </tr>\n  </thead>\n  <tbody>\n    <tr>\n      <th>0</th>\n      <td>1983.0</td>\n      <td>28080.0</td>\n      <td>28.080</td>\n      <td>28.080</td>\n    </tr>\n    <tr>\n      <th>1</th>\n      <td>1984.0</td>\n      <td>1300.0</td>\n      <td>1.300</td>\n      <td>29.380</td>\n    </tr>\n    <tr>\n      <th>2</th>\n      <td>1985.0</td>\n      <td>5445.0</td>\n      <td>5.445</td>\n      <td>34.825</td>\n    </tr>\n    <tr>\n      <th>3</th>\n      <td>1986.0</td>\n      <td>8480.0</td>\n      <td>8.480</td>\n      <td>43.305</td>\n    </tr>\n    <tr>\n      <th>4</th>\n      <td>1988.0</td>\n      <td>18400.0</td>\n      <td>18.400</td>\n      <td>61.705</td>\n    </tr>\n  </tbody>\n</table>\n</div>"
                    },
                    "metadata": {}
                }
            ]
        },
        {
            "metadata": {},
            "cell_type": "code",
            "source": "x = year_sum['p_year']\ny = year_sum['cum_sum']\nexp_grow_0 = np.polyfit(x, np.log(y), 1)\nprint(exp_grow_0)",
            "execution_count": 21,
            "outputs": [
                {
                    "output_type": "stream",
                    "text": "[ 2.66843699e-01 -5.26423847e+02]\n",
                    "name": "stdout"
                }
            ]
        },
        {
            "metadata": {},
            "cell_type": "code",
            "source": "exp_grow = np.polyfit(x, np.log(y), 1, w = np.sqrt(y))\nprint(exp_grow)",
            "execution_count": 22,
            "outputs": [
                {
                    "output_type": "stream",
                    "text": "[ 1.61859257e-01 -3.15020716e+02]\n",
                    "name": "stdout"
                }
            ]
        },
        {
            "metadata": {},
            "cell_type": "code",
            "source": "# Compute R-squared of the exponential fit -> too low! \nresiduals = y - cumsum_exp\nss_res = np.sum(residuals**2)\nss_tot = np.sum((y - np.mean(y))**2)\nr2_exp = 1 - (ss_res / ss_tot)\nprint(\"R2-score: %.2f\" % r2_exp)",
            "execution_count": 25,
            "outputs": [
                {
                    "output_type": "stream",
                    "text": "R2-score: 0.94\n",
                    "name": "stdout"
                }
            ]
        },
        {
            "metadata": {},
            "cell_type": "code",
            "source": "plt.scatter(x,y, color='b')\n#    y \u2248 exp(-0.401) * exp(0.105 * x) = 0.670 * exp(0.105 * x)\n# (^ biased towards small values)\n#year = np.arange(1983, 2020, 1)\ncumsum_exp = np.exp(exp_grow[1]) * np.exp(exp_grow[0] * x)\nplt.plot(x, cumsum_exp, '-b')\nplt.xlabel('year')\nplt.ylabel('Total Capacity (MW)')\nplt.text(1985, 80000, 'R-squared = %0.2f' %r2_exp)\nplt.title('Model #2: Exponential Growth')",
            "execution_count": 26,
            "outputs": [
                {
                    "output_type": "execute_result",
                    "execution_count": 26,
                    "data": {
                        "text/plain": "Text(0.5, 1.0, 'Model #2: Exponential Growth')"
                    },
                    "metadata": {}
                },
                {
                    "output_type": "display_data",
                    "data": {
                        "text/plain": "<Figure size 432x288 with 1 Axes>",
                        "image/png": "[encoded data removed]"
                    },
                    "metadata": {
                        "needs_background": "light"
                    }
                }
            ]
        },
        {
            "metadata": {},
            "cell_type": "markdown",
            "source": "## Selecting Top States by Capacity"
        },
        {
            "metadata": {},
            "cell_type": "code",
            "source": "###df.groupby(['t_state', 't_cap']).sum()\n###df.groupby(['t_state'])[['t_cap']].sum()\n### 'ranking' ranks the states by the total amount of wind capacity generated (sum in KiloWatts)\ndf2['rank_st'] = df2.groupby('t_state')['t_cap'].transform(np.sum).rank(ascending=False, method = 'dense')\ndf2 = df2.dropna()\ndf2.head()",
            "execution_count": 10,
            "outputs": [
                {
                    "output_type": "execute_result",
                    "execution_count": 10,
                    "data": {
                        "text/plain": "     case_id t_state          t_county                   p_name  p_year  \\\n188  3049503      IA      Story County  30 MW Iowa DG Portfolio  2017.0   \n189  3063269      IA      Story County  30 MW Iowa DG Portfolio  2017.0   \n190  3049500      IA      Story County  30 MW Iowa DG Portfolio  2017.0   \n191  3049504      IA  Poweshiek County  30 MW Iowa DG Portfolio  2017.0   \n192  3060912      IA      Story County  30 MW Iowa DG Portfolio  2017.0   \n\n     p_tnum  p_cap  t_manu     t_model   t_cap  t_hh   t_rd     t_rsa  t_ttlh  \\\n188      10   30.0  Nordex  AW125/3000  3000.0  87.5  125.0  12271.85   150.0   \n189      10   30.0  Nordex  AW125/3000  3000.0  87.5  125.0  12271.85   150.0   \n190      10   30.0  Nordex  AW125/3000  3000.0  87.5  125.0  12271.85   150.0   \n191      10   30.0  Nordex  AW125/3000  3000.0  87.5  125.0  12271.85   150.0   \n192      10   30.0  Nordex  AW125/3000  3000.0  87.5  125.0  12271.85   150.0   \n\n     rank_st big_state  \n188      2.0       BIG  \n189      2.0       BIG  \n190      2.0       BIG  \n191      2.0       BIG  \n192      2.0       BIG  ",
                        "text/html": "<div>\n<style scoped>\n    .dataframe tbody tr th:only-of-type {\n        vertical-align: middle;\n    }\n\n    .dataframe tbody tr th {\n        vertical-align: top;\n    }\n\n    .dataframe thead th {\n        text-align: right;\n    }\n</style>\n<table border=\"1\" class=\"dataframe\">\n  <thead>\n    <tr style=\"text-align: right;\">\n      <th></th>\n      <th>case_id</th>\n      <th>t_state</th>\n      <th>t_county</th>\n      <th>p_name</th>\n      <th>p_year</th>\n      <th>p_tnum</th>\n      <th>p_cap</th>\n      <th>t_manu</th>\n      <th>t_model</th>\n      <th>t_cap</th>\n      <th>t_hh</th>\n      <th>t_rd</th>\n      <th>t_rsa</th>\n      <th>t_ttlh</th>\n      <th>rank_st</th>\n      <th>big_state</th>\n    </tr>\n  </thead>\n  <tbody>\n    <tr>\n      <th>188</th>\n      <td>3049503</td>\n      <td>IA</td>\n      <td>Story County</td>\n      <td>30 MW Iowa DG Portfolio</td>\n      <td>2017.0</td>\n      <td>10</td>\n      <td>30.0</td>\n      <td>Nordex</td>\n      <td>AW125/3000</td>\n      <td>3000.0</td>\n      <td>87.5</td>\n      <td>125.0</td>\n      <td>12271.85</td>\n      <td>150.0</td>\n      <td>2.0</td>\n      <td>BIG</td>\n    </tr>\n    <tr>\n      <th>189</th>\n      <td>3063269</td>\n      <td>IA</td>\n      <td>Story County</td>\n      <td>30 MW Iowa DG Portfolio</td>\n      <td>2017.0</td>\n      <td>10</td>\n      <td>30.0</td>\n      <td>Nordex</td>\n      <td>AW125/3000</td>\n      <td>3000.0</td>\n      <td>87.5</td>\n      <td>125.0</td>\n      <td>12271.85</td>\n      <td>150.0</td>\n      <td>2.0</td>\n      <td>BIG</td>\n    </tr>\n    <tr>\n      <th>190</th>\n      <td>3049500</td>\n      <td>IA</td>\n      <td>Story County</td>\n      <td>30 MW Iowa DG Portfolio</td>\n      <td>2017.0</td>\n      <td>10</td>\n      <td>30.0</td>\n      <td>Nordex</td>\n      <td>AW125/3000</td>\n      <td>3000.0</td>\n      <td>87.5</td>\n      <td>125.0</td>\n      <td>12271.85</td>\n      <td>150.0</td>\n      <td>2.0</td>\n      <td>BIG</td>\n    </tr>\n    <tr>\n      <th>191</th>\n      <td>3049504</td>\n      <td>IA</td>\n      <td>Poweshiek County</td>\n      <td>30 MW Iowa DG Portfolio</td>\n      <td>2017.0</td>\n      <td>10</td>\n      <td>30.0</td>\n      <td>Nordex</td>\n      <td>AW125/3000</td>\n      <td>3000.0</td>\n      <td>87.5</td>\n      <td>125.0</td>\n      <td>12271.85</td>\n      <td>150.0</td>\n      <td>2.0</td>\n      <td>BIG</td>\n    </tr>\n    <tr>\n      <th>192</th>\n      <td>3060912</td>\n      <td>IA</td>\n      <td>Story County</td>\n      <td>30 MW Iowa DG Portfolio</td>\n      <td>2017.0</td>\n      <td>10</td>\n      <td>30.0</td>\n      <td>Nordex</td>\n      <td>AW125/3000</td>\n      <td>3000.0</td>\n      <td>87.5</td>\n      <td>125.0</td>\n      <td>12271.85</td>\n      <td>150.0</td>\n      <td>2.0</td>\n      <td>BIG</td>\n    </tr>\n  </tbody>\n</table>\n</div>"
                    },
                    "metadata": {}
                }
            ]
        },
        {
            "metadata": {},
            "cell_type": "code",
            "source": "df2['big_state'] = df2['rank_st'].apply(lambda x: 'BIG' if (x <= 5)  else 'SMALL')\ndf2['big_state'].value_counts(normalize=True)\n## big_state selects the top 5 (why 5: to create a balanced class label)",
            "execution_count": 11,
            "outputs": [
                {
                    "output_type": "execute_result",
                    "execution_count": 11,
                    "data": {
                        "text/plain": "BIG      0.545927\nSMALL    0.454073\nName: big_state, dtype: float64"
                    },
                    "metadata": {}
                }
            ]
        },
        {
            "metadata": {},
            "cell_type": "code",
            "source": "df3 = DataFrame(df2, columns= ['t_state','t_cap','big_state'])\nselectBigSt = df3.loc[df3['big_state'] == 'BIG']\nselectBigSt.head()",
            "execution_count": 12,
            "outputs": [
                {
                    "output_type": "execute_result",
                    "execution_count": 12,
                    "data": {
                        "text/plain": "    t_state   t_cap big_state\n188      IA  3000.0       BIG\n189      IA  3000.0       BIG\n190      IA  3000.0       BIG\n191      IA  3000.0       BIG\n192      IA  3000.0       BIG",
                        "text/html": "<div>\n<style scoped>\n    .dataframe tbody tr th:only-of-type {\n        vertical-align: middle;\n    }\n\n    .dataframe tbody tr th {\n        vertical-align: top;\n    }\n\n    .dataframe thead th {\n        text-align: right;\n    }\n</style>\n<table border=\"1\" class=\"dataframe\">\n  <thead>\n    <tr style=\"text-align: right;\">\n      <th></th>\n      <th>t_state</th>\n      <th>t_cap</th>\n      <th>big_state</th>\n    </tr>\n  </thead>\n  <tbody>\n    <tr>\n      <th>188</th>\n      <td>IA</td>\n      <td>3000.0</td>\n      <td>BIG</td>\n    </tr>\n    <tr>\n      <th>189</th>\n      <td>IA</td>\n      <td>3000.0</td>\n      <td>BIG</td>\n    </tr>\n    <tr>\n      <th>190</th>\n      <td>IA</td>\n      <td>3000.0</td>\n      <td>BIG</td>\n    </tr>\n    <tr>\n      <th>191</th>\n      <td>IA</td>\n      <td>3000.0</td>\n      <td>BIG</td>\n    </tr>\n    <tr>\n      <th>192</th>\n      <td>IA</td>\n      <td>3000.0</td>\n      <td>BIG</td>\n    </tr>\n  </tbody>\n</table>\n</div>"
                    },
                    "metadata": {}
                }
            ]
        },
        {
            "metadata": {},
            "cell_type": "code",
            "source": "big_state = selectBigSt['t_state'].unique()\nprint(big_state)",
            "execution_count": 13,
            "outputs": [
                {
                    "output_type": "stream",
                    "text": "['IA' 'KS' 'CA' 'TX' 'OK']\n",
                    "name": "stdout"
                }
            ]
        },
        {
            "metadata": {},
            "cell_type": "markdown",
            "source": "## Zooming in on the Top 5 States "
        },
        {
            "metadata": {},
            "cell_type": "code",
            "source": "state_sum = df2.groupby(['t_state','p_year'])['t_cap'].sum().reset_index()\nstate_sum['cap_year']= state_sum['t_cap'] / 1000 \nbigState = state_sum.loc[state_sum['t_state'].isin(big_state)]\nbigState.head()",
            "execution_count": 17,
            "outputs": [
                {
                    "output_type": "execute_result",
                    "execution_count": 17,
                    "data": {
                        "text/plain": "   t_state  p_year    t_cap  cap_year\n21      CA  1983.0  28080.0    28.080\n22      CA  1984.0   1300.0     1.300\n23      CA  1985.0   5445.0     5.445\n24      CA  1986.0   8480.0     8.480\n25      CA  1988.0  18400.0    18.400",
                        "text/html": "<div>\n<style scoped>\n    .dataframe tbody tr th:only-of-type {\n        vertical-align: middle;\n    }\n\n    .dataframe tbody tr th {\n        vertical-align: top;\n    }\n\n    .dataframe thead th {\n        text-align: right;\n    }\n</style>\n<table border=\"1\" class=\"dataframe\">\n  <thead>\n    <tr style=\"text-align: right;\">\n      <th></th>\n      <th>t_state</th>\n      <th>p_year</th>\n      <th>t_cap</th>\n      <th>cap_year</th>\n    </tr>\n  </thead>\n  <tbody>\n    <tr>\n      <th>21</th>\n      <td>CA</td>\n      <td>1983.0</td>\n      <td>28080.0</td>\n      <td>28.080</td>\n    </tr>\n    <tr>\n      <th>22</th>\n      <td>CA</td>\n      <td>1984.0</td>\n      <td>1300.0</td>\n      <td>1.300</td>\n    </tr>\n    <tr>\n      <th>23</th>\n      <td>CA</td>\n      <td>1985.0</td>\n      <td>5445.0</td>\n      <td>5.445</td>\n    </tr>\n    <tr>\n      <th>24</th>\n      <td>CA</td>\n      <td>1986.0</td>\n      <td>8480.0</td>\n      <td>8.480</td>\n    </tr>\n    <tr>\n      <th>25</th>\n      <td>CA</td>\n      <td>1988.0</td>\n      <td>18400.0</td>\n      <td>18.400</td>\n    </tr>\n  </tbody>\n</table>\n</div>"
                    },
                    "metadata": {}
                }
            ]
        },
        {
            "metadata": {},
            "cell_type": "code",
            "source": "bigState.shape",
            "execution_count": 18,
            "outputs": [
                {
                    "output_type": "execute_result",
                    "execution_count": 18,
                    "data": {
                        "text/plain": "(102, 4)"
                    },
                    "metadata": {}
                }
            ]
        },
        {
            "metadata": {},
            "cell_type": "markdown",
            "source": "### Pivot: Added Capacity per State per Year"
        },
        {
            "metadata": {},
            "cell_type": "code",
            "source": "pivot1 = bigState.pivot(index='p_year', columns='t_state', values='cap_year')\npivot1.head()",
            "execution_count": 19,
            "outputs": [
                {
                    "output_type": "execute_result",
                    "execution_count": 19,
                    "data": {
                        "text/plain": "t_state      CA  IA  KS  OK  TX\np_year                         \n1983.0   28.080 NaN NaN NaN NaN\n1984.0    1.300 NaN NaN NaN NaN\n1985.0    5.445 NaN NaN NaN NaN\n1986.0    8.480 NaN NaN NaN NaN\n1988.0   18.400 NaN NaN NaN NaN",
                        "text/html": "<div>\n<style scoped>\n    .dataframe tbody tr th:only-of-type {\n        vertical-align: middle;\n    }\n\n    .dataframe tbody tr th {\n        vertical-align: top;\n    }\n\n    .dataframe thead th {\n        text-align: right;\n    }\n</style>\n<table border=\"1\" class=\"dataframe\">\n  <thead>\n    <tr style=\"text-align: right;\">\n      <th>t_state</th>\n      <th>CA</th>\n      <th>IA</th>\n      <th>KS</th>\n      <th>OK</th>\n      <th>TX</th>\n    </tr>\n    <tr>\n      <th>p_year</th>\n      <th></th>\n      <th></th>\n      <th></th>\n      <th></th>\n      <th></th>\n    </tr>\n  </thead>\n  <tbody>\n    <tr>\n      <th>1983.0</th>\n      <td>28.080</td>\n      <td>NaN</td>\n      <td>NaN</td>\n      <td>NaN</td>\n      <td>NaN</td>\n    </tr>\n    <tr>\n      <th>1984.0</th>\n      <td>1.300</td>\n      <td>NaN</td>\n      <td>NaN</td>\n      <td>NaN</td>\n      <td>NaN</td>\n    </tr>\n    <tr>\n      <th>1985.0</th>\n      <td>5.445</td>\n      <td>NaN</td>\n      <td>NaN</td>\n      <td>NaN</td>\n      <td>NaN</td>\n    </tr>\n    <tr>\n      <th>1986.0</th>\n      <td>8.480</td>\n      <td>NaN</td>\n      <td>NaN</td>\n      <td>NaN</td>\n      <td>NaN</td>\n    </tr>\n    <tr>\n      <th>1988.0</th>\n      <td>18.400</td>\n      <td>NaN</td>\n      <td>NaN</td>\n      <td>NaN</td>\n      <td>NaN</td>\n    </tr>\n  </tbody>\n</table>\n</div>"
                    },
                    "metadata": {}
                }
            ]
        },
        {
            "metadata": {},
            "cell_type": "code",
            "source": "## CA,IA and TX show continuous capacity contribution \n## CA and IA are earliest contributors  \ncolors = ['b', 'g', 'r', 'c', 'm', 'y', 'k', 'w']\ncol = pd.Series(pivot1.columns)\nfig2, axes = plt.subplots(col.size,1, sharex = True)\nfor i in range(col.size):\n    pivot1.plot(ax = axes[i],y = col[i], color = colors[i])\nfig2.suptitle('Capacity Contribution per State per Year')",
            "execution_count": 20,
            "outputs": [
                {
                    "output_type": "execute_result",
                    "execution_count": 20,
                    "data": {
                        "text/plain": "Text(0.5, 0.98, 'Capacity Contribution per State per Year')"
                    },
                    "metadata": {}
                },
                {
                    "output_type": "display_data",
                    "data": {
                        "text/plain": "<Figure size 432x288 with 5 Axes>",
                        "image/png": "[encoded data removed]"
                    },
                    "metadata": {
                        "needs_background": "light"
                    }
                }
            ]
        },
        {
            "metadata": {},
            "cell_type": "code",
            "source": "pivot1.plot(stacked=False)\n##ax2.set_title('Capacity Contribution by the Top 5 States')\n\n",
            "execution_count": 25,
            "outputs": [
                {
                    "output_type": "execute_result",
                    "execution_count": 25,
                    "data": {
                        "text/plain": "<matplotlib.axes._subplots.AxesSubplot at 0x7f14154efdd8>"
                    },
                    "metadata": {}
                },
                {
                    "output_type": "display_data",
                    "data": {
                        "text/plain": "<Figure size 432x288 with 1 Axes>",
                        "image/png": "[encoded data removed]"
                    },
                    "metadata": {
                        "needs_background": "light"
                    }
                }
            ]
        },
        {
            "metadata": {},
            "cell_type": "code",
            "source": "\n#ax = pd.Series()\n#for i in range(1, col.size):\n    ax[i] = fig.add_subplot(1, 1, i)\n    pivot1.plot(ax = ax[i-1], x='p_year', y=col[i-1])\n#plt.show()",
            "execution_count": 21,
            "outputs": [
                {
                    "output_type": "error",
                    "ename": "NameError",
                    "evalue": "name 'fig' is not defined",
                    "traceback": [
                        "\u001b[0;31m---------------------------------------------------------------------------\u001b[0m",
                        "\u001b[0;31mNameError\u001b[0m                                 Traceback (most recent call last)",
                        "\u001b[0;32mcell_name\u001b[0m in \u001b[0;36masync-def-wrapper\u001b[0;34m()\u001b[0m\n",
                        "\u001b[0;31mNameError\u001b[0m: name 'fig' is not defined"
                    ]
                }
            ]
        },
        {
            "metadata": {},
            "cell_type": "code",
            "source": "col = pd.Series(pivot1.columns)\ncol[0]",
            "execution_count": 22,
            "outputs": [
                {
                    "output_type": "execute_result",
                    "execution_count": 22,
                    "data": {
                        "text/plain": "'CA'"
                    },
                    "metadata": {}
                }
            ]
        },
        {
            "metadata": {
                "button": false,
                "new_sheet": false,
                "run_control": {
                    "read_only": false
                }
            },
            "cell_type": "markdown",
            "source": "# Pre-processing:  Feature selection/extraction"
        },
        {
            "metadata": {
                "button": false,
                "new_sheet": false,
                "run_control": {
                    "read_only": false
                }
            },
            "cell_type": "markdown",
            "source": "### Lets look at the day of the week people get the loan "
        },
        {
            "metadata": {
                "button": false,
                "new_sheet": false,
                "run_control": {
                    "read_only": false
                }
            },
            "cell_type": "markdown",
            "source": "We see that people who get the loan at the end of the week dont pay it off, so lets use Feature binarization to set a threshold values less then day 4 "
        },
        {
            "metadata": {},
            "cell_type": "code",
            "source": "df['dayofweek'] = df['effective_date'].dt.dayofweek\ndf['weekend'] = df['dayofweek'].apply(lambda x: 1 if (x>3)  else 0)",
            "execution_count": 7,
            "outputs": []
        },
        {
            "metadata": {
                "button": false,
                "new_sheet": false,
                "run_control": {
                    "read_only": false
                }
            },
            "cell_type": "markdown",
            "source": "## Convert Categorical features to numerical values"
        },
        {
            "metadata": {
                "button": false,
                "new_sheet": false,
                "run_control": {
                    "read_only": false
                }
            },
            "cell_type": "markdown",
            "source": "Lets look at gender:"
        },
        {
            "metadata": {
                "button": false,
                "new_sheet": false,
                "run_control": {
                    "read_only": false
                }
            },
            "cell_type": "code",
            "source": "df2.groupby(['t_cap'])['big_state'].value_counts(normalize=True)",
            "execution_count": 40,
            "outputs": [
                {
                    "output_type": "execute_result",
                    "execution_count": 40,
                    "data": {
                        "text/plain": "t_cap   big_state\n50.0    SMALL        0.966667\n        BIG          0.033333\n60.0    BIG          1.000000\n65.0    BIG          0.967805\n        SMALL        0.032195\n75.0    BIG          1.000000\n80.0    SMALL        1.000000\n90.0    BIG          1.000000\n95.0    BIG          0.978448\n        SMALL        0.021552\n100.0   SMALL        0.754098\n        BIG          0.245902\n105.0   BIG          1.000000\n108.0   BIG          0.991736\n        SMALL        0.008264\n120.0   BIG          1.000000\n150.0   BIG          1.000000\n160.0   BIG          0.912698\n        SMALL        0.087302\n225.0   BIG          0.980198\n        SMALL        0.019802\n230.0   SMALL        1.000000\n250.0   BIG          0.675000\n        SMALL        0.325000\n275.0   SMALL        1.000000\n350.0   BIG          1.000000\n400.0   SMALL        1.000000\n450.0   BIG          1.000000\n500.0   BIG          0.871795\n        SMALL        0.128205\n                       ...   \n2350.0  BIG          1.000000\n2370.0  BIG          1.000000\n2400.0  BIG          0.794769\n        SMALL        0.205231\n2415.0  BIG          1.000000\n2450.0  BIG          1.000000\n2500.0  BIG          0.541073\n        SMALL        0.458927\n2520.0  BIG          1.000000\n2625.0  BIG          0.610860\n        SMALL        0.389140\n2850.0  BIG          0.572917\n        SMALL        0.427083\n3000.0  BIG          0.795597\n        SMALL        0.204403\n3075.0  SMALL        0.592965\n        BIG          0.407035\n3150.0  BIG          0.652921\n        SMALL        0.347079\n3200.0  SMALL        1.000000\n3300.0  BIG          0.835714\n        SMALL        0.164286\n3450.0  BIG          0.773438\n        SMALL        0.226562\n3465.0  BIG          1.000000\n3550.0  BIG          1.000000\n3570.0  BIG          1.000000\n3600.0  BIG          0.823741\n        SMALL        0.176259\n6000.0  SMALL        1.000000\nName: big_state, Length: 118, dtype: float64"
                    },
                    "metadata": {}
                }
            ]
        },
        {
            "metadata": {
                "button": false,
                "new_sheet": false,
                "run_control": {
                    "read_only": false
                }
            },
            "cell_type": "markdown",
            "source": "86 % of female pay there loans while only 73 % of males pay there loan\n"
        },
        {
            "metadata": {
                "button": false,
                "new_sheet": false,
                "run_control": {
                    "read_only": false
                }
            },
            "cell_type": "markdown",
            "source": "Lets convert male to 0 and female to 1:\n"
        },
        {
            "metadata": {
                "button": false,
                "new_sheet": false,
                "run_control": {
                    "read_only": false
                }
            },
            "cell_type": "code",
            "source": "## Gender coded: male to 0, female to 1 \ndf['Gender'].replace(to_replace=['male','female'], value=[0,1],inplace=True)",
            "execution_count": 9,
            "outputs": []
        },
        {
            "metadata": {
                "button": false,
                "new_sheet": false,
                "run_control": {
                    "read_only": false
                }
            },
            "cell_type": "markdown",
            "source": "## One Hot Encoding  \n#### How about education?"
        },
        {
            "metadata": {
                "button": false,
                "new_sheet": false,
                "run_control": {
                    "read_only": false
                }
            },
            "cell_type": "code",
            "source": "df.groupby(['education'])['loan_status'].value_counts(normalize=True)",
            "execution_count": 10,
            "outputs": [
                {
                    "output_type": "execute_result",
                    "execution_count": 10,
                    "data": {
                        "text/plain": "education             loan_status\nBechalor              PAIDOFF        0.750000\n                      COLLECTION     0.250000\nHigh School or Below  PAIDOFF        0.741722\n                      COLLECTION     0.258278\nMaster or Above       COLLECTION     0.500000\n                      PAIDOFF        0.500000\ncollege               PAIDOFF        0.765101\n                      COLLECTION     0.234899\nName: loan_status, dtype: float64"
                    },
                    "metadata": {}
                }
            ]
        },
        {
            "metadata": {
                "button": false,
                "new_sheet": false,
                "run_control": {
                    "read_only": false
                }
            },
            "cell_type": "markdown",
            "source": "#### Feature befor One Hot Encoding"
        },
        {
            "metadata": {
                "button": false,
                "new_sheet": false,
                "run_control": {
                    "read_only": false
                }
            },
            "cell_type": "code",
            "source": "df[['Principal','terms','age','Gender','education']].head()",
            "execution_count": 11,
            "outputs": [
                {
                    "output_type": "execute_result",
                    "execution_count": 11,
                    "data": {
                        "text/plain": "   Principal  terms  age  Gender             education\n0       1000     30   45       0  High School or Below\n1       1000     30   33       1              Bechalor\n2       1000     15   27       0               college\n3       1000     30   28       1               college\n4       1000     30   29       0               college",
                        "text/html": "<div>\n<style scoped>\n    .dataframe tbody tr th:only-of-type {\n        vertical-align: middle;\n    }\n\n    .dataframe tbody tr th {\n        vertical-align: top;\n    }\n\n    .dataframe thead th {\n        text-align: right;\n    }\n</style>\n<table border=\"1\" class=\"dataframe\">\n  <thead>\n    <tr style=\"text-align: right;\">\n      <th></th>\n      <th>Principal</th>\n      <th>terms</th>\n      <th>age</th>\n      <th>Gender</th>\n      <th>education</th>\n    </tr>\n  </thead>\n  <tbody>\n    <tr>\n      <th>0</th>\n      <td>1000</td>\n      <td>30</td>\n      <td>45</td>\n      <td>0</td>\n      <td>High School or Below</td>\n    </tr>\n    <tr>\n      <th>1</th>\n      <td>1000</td>\n      <td>30</td>\n      <td>33</td>\n      <td>1</td>\n      <td>Bechalor</td>\n    </tr>\n    <tr>\n      <th>2</th>\n      <td>1000</td>\n      <td>15</td>\n      <td>27</td>\n      <td>0</td>\n      <td>college</td>\n    </tr>\n    <tr>\n      <th>3</th>\n      <td>1000</td>\n      <td>30</td>\n      <td>28</td>\n      <td>1</td>\n      <td>college</td>\n    </tr>\n    <tr>\n      <th>4</th>\n      <td>1000</td>\n      <td>30</td>\n      <td>29</td>\n      <td>0</td>\n      <td>college</td>\n    </tr>\n  </tbody>\n</table>\n</div>"
                    },
                    "metadata": {}
                }
            ]
        },
        {
            "metadata": {
                "button": false,
                "new_sheet": false,
                "run_control": {
                    "read_only": false
                }
            },
            "cell_type": "markdown",
            "source": "#### Use one hot encoding technique to conver categorical varables to binary variables and append them to the feature Data Frame "
        },
        {
            "metadata": {
                "button": false,
                "new_sheet": false,
                "run_control": {
                    "read_only": false
                }
            },
            "cell_type": "code",
            "source": "Feature = df[['Principal','terms','age','Gender','weekend']]\nFeature = pd.concat([Feature,pd.get_dummies(df['education'])], axis=1)\nFeature.drop(['Master or Above'], axis = 1,inplace=True)",
            "execution_count": 12,
            "outputs": []
        },
        {
            "metadata": {
                "button": false,
                "new_sheet": false,
                "run_control": {
                    "read_only": false
                }
            },
            "cell_type": "markdown",
            "source": "### Feature selection"
        },
        {
            "metadata": {
                "button": false,
                "new_sheet": false,
                "run_control": {
                    "read_only": false
                }
            },
            "cell_type": "markdown",
            "source": "Lets defind feature sets, X:"
        },
        {
            "metadata": {
                "button": false,
                "new_sheet": false,
                "run_control": {
                    "read_only": false
                }
            },
            "cell_type": "code",
            "source": "X = Feature",
            "execution_count": 13,
            "outputs": []
        },
        {
            "metadata": {
                "button": false,
                "new_sheet": false,
                "run_control": {
                    "read_only": false
                }
            },
            "cell_type": "markdown",
            "source": "What are our lables?"
        },
        {
            "metadata": {
                "button": false,
                "new_sheet": false,
                "run_control": {
                    "read_only": false
                }
            },
            "cell_type": "code",
            "source": "y = df['loan_status'].values\ny[0:3]",
            "execution_count": 14,
            "outputs": [
                {
                    "output_type": "execute_result",
                    "execution_count": 14,
                    "data": {
                        "text/plain": "array(['PAIDOFF', 'PAIDOFF', 'PAIDOFF'], dtype=object)"
                    },
                    "metadata": {}
                }
            ]
        },
        {
            "metadata": {
                "button": false,
                "new_sheet": false,
                "run_control": {
                    "read_only": false
                }
            },
            "cell_type": "markdown",
            "source": "## Normalize Data "
        },
        {
            "metadata": {
                "button": false,
                "new_sheet": false,
                "run_control": {
                    "read_only": false
                }
            },
            "cell_type": "markdown",
            "source": "Data Standardization give data zero mean and unit variance (technically should be done after train test split )"
        },
        {
            "metadata": {
                "button": false,
                "new_sheet": false,
                "run_control": {
                    "read_only": false
                }
            },
            "cell_type": "code",
            "source": "X = preprocessing.StandardScaler().fit(X).transform(X)",
            "execution_count": 15,
            "outputs": [
                {
                    "output_type": "stream",
                    "text": "/opt/conda/envs/Python36/lib/python3.6/site-packages/sklearn/preprocessing/data.py:645: DataConversionWarning: Data with input dtype uint8, int64 were all converted to float64 by StandardScaler.\n  return self.partial_fit(X, y)\n/opt/conda/envs/Python36/lib/python3.6/site-packages/ipykernel/__main__.py:1: DataConversionWarning: Data with input dtype uint8, int64 were all converted to float64 by StandardScaler.\n  if __name__ == '__main__':\n",
                    "name": "stderr"
                }
            ]
        },
        {
            "metadata": {
                "button": false,
                "new_sheet": false,
                "run_control": {
                    "read_only": false
                }
            },
            "cell_type": "markdown",
            "source": "# Classification "
        },
        {
            "metadata": {
                "button": false,
                "new_sheet": false,
                "run_control": {
                    "read_only": false
                }
            },
            "cell_type": "markdown",
            "source": "Now, it is your turn, use the training set to build an accurate model. Then use the test set to report the accuracy of the model\nYou should use the following algorithm:\n- K Nearest Neighbor(KNN)\n- Decision Tree\n- Support Vector Machine\n- Logistic Regression\n\n__ Notice:__ \n- You can go above and change the pre-processing, feature selection, feature-extraction, and so on, to make a better model.\n- You should use either scikit-learn, Scipy or Numpy libraries for developing the classification algorithms.\n- You should include the code of the algorithm in the following cells."
        },
        {
            "metadata": {},
            "cell_type": "markdown",
            "source": "# K Nearest Neighbor(KNN)\nNotice: You should find the best k to build the model with the best accuracy.  \n**warning:** You should not use the __loan_test.csv__ for finding the best k, however, you can split your train_loan.csv into train and test to find the best __k__."
        },
        {
            "metadata": {},
            "cell_type": "code",
            "source": "## KNN - Import Libraries\nfrom sklearn.model_selection import train_test_split\nfrom sklearn import metrics \nfrom sklearn.neighbors import KNeighborsClassifier\n\n## KNN - Training \n\nX_train, X_test, y_train, y_test = train_test_split(X,y, test_size = 0.2, random_state = 4)\n\n## KNN - Solving for best K based on Jaccard and on F1-Score\n\nKs = 20\nJC = np.zeros((Ks-1))\nF1 = np.zeros((Ks-1))\nfor k in range(1,Ks):\n    nb  = KNeighborsClassifier(n_neighbors=k).fit(X_train, y_train)\n    yhat = nb.predict(X_test)\n    JC[k-1] =  metrics.jaccard_similarity_score(y_test, yhat, normalize=True)\n    F1[k-1] = metrics.f1_score(y_test, yhat,average = 'macro')\nprint('For the purpose of this project, the best K is chosen by Jaccard Index, which is: ', JC.argmax())\n\nNB = KNeighborsClassifier(n_neighbors= JC.argmax()).fit(X_train, y_train)\n",
            "execution_count": 16,
            "outputs": [
                {
                    "output_type": "stream",
                    "text": "For the purpose of this project, the best K is chosen by Jaccard Index, which is:  6\n",
                    "name": "stdout"
                }
            ]
        },
        {
            "metadata": {},
            "cell_type": "markdown",
            "source": "# Decision Tree"
        },
        {
            "metadata": {},
            "cell_type": "code",
            "source": "## Decision Tree - Import Library \nfrom sklearn.tree import DecisionTreeClassifier\nX_train, X_test, y_train, y_test = train_test_split(X,y, test_size = 0.2, random_state = 3)\n\n## Creating an instance of the decision tree DT and Train it \n\ndt = DecisionTreeClassifier(criterion=\"entropy\", max_depth = 5)\ndt.fit(X_train, y_train)\n",
            "execution_count": 17,
            "outputs": [
                {
                    "output_type": "execute_result",
                    "execution_count": 17,
                    "data": {
                        "text/plain": "DecisionTreeClassifier(class_weight=None, criterion='entropy', max_depth=5,\n            max_features=None, max_leaf_nodes=None,\n            min_impurity_decrease=0.0, min_impurity_split=None,\n            min_samples_leaf=1, min_samples_split=2,\n            min_weight_fraction_leaf=0.0, presort=False, random_state=None,\n            splitter='best')"
                    },
                    "metadata": {}
                }
            ]
        },
        {
            "metadata": {},
            "cell_type": "markdown",
            "source": "# Support Vector Machine"
        },
        {
            "metadata": {},
            "cell_type": "code",
            "source": "## Testing different SVM kernels \nX = np.asarray(Feature)\ny = np.asarray(df['loan_status'])\ny[0:5]\nX_train, X_test, y_train, y_test = train_test_split( X, y, test_size=0.2, random_state=4)\n# RBF \nfrom sklearn import svm\n\nkernel = 'rbf'\nclf = svm.SVC(kernel = kernel)\nclf.fit(X_train, y_train)\nyhat = clf.predict(X_test)\n",
            "execution_count": 18,
            "outputs": [
                {
                    "output_type": "stream",
                    "text": "/opt/conda/envs/Python36/lib/python3.6/site-packages/sklearn/svm/base.py:196: FutureWarning: The default value of gamma will change from 'auto' to 'scale' in version 0.22 to account better for unscaled features. Set gamma explicitly to 'auto' or 'scale' to avoid this warning.\n  \"avoid this warning.\", FutureWarning)\n",
                    "name": "stderr"
                }
            ]
        },
        {
            "metadata": {},
            "cell_type": "markdown",
            "source": "# Logistic Regression"
        },
        {
            "metadata": {},
            "cell_type": "code",
            "source": "# Logistic/Sigmoid Regression \nX = Feature\ny = pd.get_dummies(df['loan_status'], drop_first=True)\n\nX_train, X_test, y_train, y_test = train_test_split( X, y, test_size=0.2, random_state=4)\n\n# Import package for Logistic Regression \nfrom sklearn.linear_model import LogisticRegression\nlg = LogisticRegression(solver = 'lbfgs')\nlg.fit(X_train, y_train)\n",
            "execution_count": 19,
            "outputs": [
                {
                    "output_type": "stream",
                    "text": "/opt/conda/envs/Python36/lib/python3.6/site-packages/sklearn/utils/validation.py:761: DataConversionWarning: A column-vector y was passed when a 1d array was expected. Please change the shape of y to (n_samples, ), for example using ravel().\n  y = column_or_1d(y, warn=True)\n",
                    "name": "stderr"
                },
                {
                    "output_type": "execute_result",
                    "execution_count": 19,
                    "data": {
                        "text/plain": "LogisticRegression(C=1.0, class_weight=None, dual=False, fit_intercept=True,\n          intercept_scaling=1, max_iter=100, multi_class='warn',\n          n_jobs=None, penalty='l2', random_state=None, solver='lbfgs',\n          tol=0.0001, verbose=0, warm_start=False)"
                    },
                    "metadata": {}
                }
            ]
        },
        {
            "metadata": {},
            "cell_type": "markdown",
            "source": "# Model Evaluation using Test set"
        },
        {
            "metadata": {},
            "cell_type": "code",
            "source": "from sklearn.metrics import jaccard_similarity_score\nfrom sklearn.metrics import f1_score\nfrom sklearn.metrics import log_loss",
            "execution_count": 20,
            "outputs": []
        },
        {
            "metadata": {},
            "cell_type": "markdown",
            "source": "First, download and load the test set:"
        },
        {
            "metadata": {},
            "cell_type": "code",
            "source": "!wget -O loan_test.csv https://s3-api.us-geo.objectstorage.softlayer.net/cf-courses-data/CognitiveClass/ML0101ENv3/labs/loan_test.csv",
            "execution_count": 21,
            "outputs": [
                {
                    "output_type": "stream",
                    "text": "--2019-09-29 20:50:28--  https://s3-api.us-geo.objectstorage.softlayer.net/cf-courses-data/CognitiveClass/ML0101ENv3/labs/loan_test.csv\nResolving s3-api.us-geo.objectstorage.softlayer.net (s3-api.us-geo.objectstorage.softlayer.net)... 67.228.254.193\nConnecting to s3-api.us-geo.objectstorage.softlayer.net (s3-api.us-geo.objectstorage.softlayer.net)|67.228.254.193|:443... connected.\nHTTP request sent, awaiting response... 200 OK\nLength: 3642 (3.6K) [text/csv]\nSaving to: \u2018loan_test.csv\u2019\n\n100%[======================================>] 3,642       --.-K/s   in 0s      \n\n2019-09-29 20:50:28 (214 MB/s) - \u2018loan_test.csv\u2019 saved [3642/3642]\n\n",
                    "name": "stdout"
                }
            ]
        },
        {
            "metadata": {
                "button": false,
                "new_sheet": false,
                "run_control": {
                    "read_only": false
                }
            },
            "cell_type": "markdown",
            "source": "### Load Test Set for evaluation "
        },
        {
            "metadata": {
                "button": false,
                "new_sheet": false,
                "run_control": {
                    "read_only": false
                }
            },
            "cell_type": "code",
            "source": "test_df = pd.read_csv('loan_test.csv')\n\n## Data preprocessing \ntest_df['effective_date'] = pd.to_datetime(test_df['effective_date'])\ntest_df['due_date'] = pd.to_datetime(test_df['due_date'])\ntest_df['dayofweek'] = test_df['effective_date'].dt.dayofweek \ntest_df['weekend'] = test_df['dayofweek'].apply(lambda x: 1 if (x>3)  else 0)\ntest_df['Gender'].replace(to_replace=['male','female'], value=[0,1],inplace=True)\ntestFeature = test_df[['Principal','terms','age','Gender','weekend']]\ntestFeature = pd.concat([testFeature,pd.get_dummies(test_df['education'])], axis=1)\n# Drop one of the education dummies to avoid multicollinearity \ntestFeature.drop(['Master or Above'], axis = 1,inplace=True)\ntestFeature.rename(columns={'Bechalor':'Bachelor'},inplace = True)\nX = testFeature\ny = test_df['loan_status'].values",
            "execution_count": 22,
            "outputs": []
        },
        {
            "metadata": {},
            "cell_type": "code",
            "source": "## KNN - Training \n#X_train, X_test, y_train, y_test = train_test_split(X,y, test_size = 0.2, random_state = 4)\n\n#nb  = KNeighborsClassifier(n_neighbors= 6).fit(X_train, y_train)\nyhat_test = NB.predict(X)\nJC_KNN =  metrics.jaccard_similarity_score(y, yhat_test, normalize=True)\nF1_KNN = metrics.f1_score(y, yhat_test,average = 'macro')\n\n## KNN Results \nKNN = np.asarray([round(JC_KNN,3),round(F1_KNN,3),'NA']).transpose()\nKNN",
            "execution_count": 23,
            "outputs": [
                {
                    "output_type": "stream",
                    "text": "/opt/conda/envs/Python36/lib/python3.6/site-packages/sklearn/metrics/classification.py:1143: UndefinedMetricWarning: F-score is ill-defined and being set to 0.0 in labels with no predicted samples.\n  'precision', 'predicted', average, warn_for)\n",
                    "name": "stderr"
                },
                {
                    "output_type": "execute_result",
                    "execution_count": 23,
                    "data": {
                        "text/plain": "array(['0.741', '0.426', 'NA'], dtype='<U32')"
                    },
                    "metadata": {}
                }
            ]
        },
        {
            "metadata": {},
            "cell_type": "code",
            "source": "## Decision Tree \n#DT = DecisionTreeClassifier(criterion=\"entropy\", max_depth = 5)\n#DT.fit(X_train, y_train)\n## Predictions using the tree \nPT2 = dt.predict(X)\n\n## Accuracy of the Tree \nJC_DT =  metrics.jaccard_similarity_score(y, PT2, normalize=True)\nF1_DT = metrics.f1_score(y, PT2,average = 'macro')\nDT = np.asarray([round(JC_DT,3),round(F1_DT,3),'NA']).transpose()\nDT",
            "execution_count": 24,
            "outputs": [
                {
                    "output_type": "stream",
                    "text": "/opt/conda/envs/Python36/lib/python3.6/site-packages/sklearn/metrics/classification.py:1143: UndefinedMetricWarning: F-score is ill-defined and being set to 0.0 in labels with no predicted samples.\n  'precision', 'predicted', average, warn_for)\n",
                    "name": "stderr"
                },
                {
                    "output_type": "execute_result",
                    "execution_count": 24,
                    "data": {
                        "text/plain": "array(['0.741', '0.426', 'NA'], dtype='<U32')"
                    },
                    "metadata": {}
                }
            ]
        },
        {
            "metadata": {},
            "cell_type": "code",
            "source": "## SVM \nyhat_SVM = clf.predict(X)\nJC_SVM =  metrics.jaccard_similarity_score(y, yhat_SVM, normalize=True)\nF1_SVM = metrics.f1_score(y, yhat_SVM ,average = 'macro')\nSVM = np.asarray([round(JC_SVM,3),round(F1_SVM,3),'NA']).transpose()\nSVM",
            "execution_count": 25,
            "outputs": [
                {
                    "output_type": "execute_result",
                    "execution_count": 25,
                    "data": {
                        "text/plain": "array(['0.759', '0.497', 'NA'], dtype='<U32')"
                    },
                    "metadata": {}
                }
            ]
        },
        {
            "metadata": {},
            "cell_type": "code",
            "source": "## Logistic Regression \ny_LG = pd.get_dummies(test_df['loan_status'], drop_first=True)\nyhat_lg = lg.predict(X)\nlgProb_test = lg.predict_proba(X)\n\nJC_LG = metrics.jaccard_similarity_score(y_LG, yhat_lg, normalize=True)\nF1_LG = metrics.f1_score(y_LG, yhat_lg, average = 'macro')\nLL_LG = metrics.log_loss(y_LG, lgProb_test, normalize=True)\nLG = np.asarray([round(JC_LG,3),round(F1_LG,3),round(LL_LG,3)]).transpose()\nLG",
            "execution_count": 26,
            "outputs": [
                {
                    "output_type": "execute_result",
                    "execution_count": 26,
                    "data": {
                        "text/plain": "array([0.722, 0.476, 0.479])"
                    },
                    "metadata": {}
                }
            ]
        },
        {
            "metadata": {},
            "cell_type": "markdown",
            "source": "# Report\nYou should be able to report the accuracy of the built model using different evaluation metrics:"
        },
        {
            "metadata": {},
            "cell_type": "code",
            "source": "# Report in the below format\n# Initiate dataframe with the columns \ncolumns = ['Jaccard', 'F1-score','LogLoss']\nreport = pd.DataFrame(columns = columns)\nreport.loc['KNN'] = KNN\nreport.loc['Decision Tree '] = DT\nreport.loc['SVM'] = SVM\nreport.loc['LogisticRegression'] = LG\nreport.index.name = 'Algorithm'\nreport",
            "execution_count": 27,
            "outputs": [
                {
                    "output_type": "execute_result",
                    "execution_count": 27,
                    "data": {
                        "text/plain": "                   Jaccard F1-score LogLoss\nAlgorithm                                  \nKNN                  0.741    0.426      NA\nDecision Tree        0.741    0.426      NA\nSVM                  0.759    0.497      NA\nLogisticRegression   0.722    0.476   0.479",
                        "text/html": "<div>\n<style scoped>\n    .dataframe tbody tr th:only-of-type {\n        vertical-align: middle;\n    }\n\n    .dataframe tbody tr th {\n        vertical-align: top;\n    }\n\n    .dataframe thead th {\n        text-align: right;\n    }\n</style>\n<table border=\"1\" class=\"dataframe\">\n  <thead>\n    <tr style=\"text-align: right;\">\n      <th></th>\n      <th>Jaccard</th>\n      <th>F1-score</th>\n      <th>LogLoss</th>\n    </tr>\n    <tr>\n      <th>Algorithm</th>\n      <th></th>\n      <th></th>\n      <th></th>\n    </tr>\n  </thead>\n  <tbody>\n    <tr>\n      <th>KNN</th>\n      <td>0.741</td>\n      <td>0.426</td>\n      <td>NA</td>\n    </tr>\n    <tr>\n      <th>Decision Tree</th>\n      <td>0.741</td>\n      <td>0.426</td>\n      <td>NA</td>\n    </tr>\n    <tr>\n      <th>SVM</th>\n      <td>0.759</td>\n      <td>0.497</td>\n      <td>NA</td>\n    </tr>\n    <tr>\n      <th>LogisticRegression</th>\n      <td>0.722</td>\n      <td>0.476</td>\n      <td>0.479</td>\n    </tr>\n  </tbody>\n</table>\n</div>"
                    },
                    "metadata": {}
                }
            ]
        },
        {
            "metadata": {
                "button": false,
                "new_sheet": false,
                "run_control": {
                    "read_only": false
                }
            },
            "cell_type": "markdown",
            "source": "<h2>Want to learn more?</h2>\n\nIBM SPSS Modeler is a comprehensive analytics platform that has many machine learning algorithms. It has been designed to bring predictive intelligence to decisions made by individuals, by groups, by systems \u2013 by your enterprise as a whole. A free trial is available through this course, available here: <a href=\"http://cocl.us/ML0101EN-SPSSModeler\">SPSS Modeler</a>\n\nAlso, you can use Watson Studio to run these notebooks faster with bigger datasets. Watson Studio is IBM's leading cloud solution for data scientists, built by data scientists. With Jupyter notebooks, RStudio, Apache Spark and popular libraries pre-packaged in the cloud, Watson Studio enables data scientists to collaborate on their projects without having to install anything. Join the fast-growing community of Watson Studio users today with a free account at <a href=\"https://cocl.us/ML0101EN_DSX\">Watson Studio</a>\n\n<h3>Thanks for completing this lesson!</h3>\n\n<h4>Author:  <a href=\"https://ca.linkedin.com/in/saeedaghabozorgi\">Saeed Aghabozorgi</a></h4>\n<p><a href=\"https://ca.linkedin.com/in/saeedaghabozorgi\">Saeed Aghabozorgi</a>, PhD is a Data Scientist in IBM with a track record of developing enterprise level applications that substantially increases clients\u2019 ability to turn data into actionable knowledge. He is a researcher in data mining field and expert in developing advanced analytic methods like machine learning and statistical modelling on large datasets.</p>\n\n<hr>\n\n<p>Copyright &copy; 2018 <a href=\"https://cocl.us/DX0108EN_CC\">Cognitive Class</a>. This notebook and its source code are released under the terms of the <a href=\"https://bigdatauniversity.com/mit-license/\">MIT License</a>.</p>"
        }
    ],
    "metadata": {
        "kernelspec": {
            "name": "python3",
            "display_name": "Python 3.6",
            "language": "python"
        },
        "language_info": {
            "name": "python",
            "version": "3.6.9",
            "mimetype": "text/x-python",
            "codemirror_mode": {
                "name": "ipython",
                "version": 3
            },
            "pygments_lexer": "ipython3",
            "nbconvert_exporter": "python",
            "file_extension": ".py"
        }
    },
    "nbformat": 4,
    "nbformat_minor": 2
}